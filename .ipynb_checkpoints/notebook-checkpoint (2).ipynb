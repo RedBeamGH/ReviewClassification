{
 "cells": [
  {
   "cell_type": "code",
   "execution_count": 2,
   "id": "a038979a-f8c1-45c4-b61e-8c526de0dac5",
   "metadata": {
    "tags": []
   },
   "outputs": [],
   "source": [
    "import torch\n",
    "import torch.nn as nn\n",
    "import pathlib\n",
    "from sklearn.model_selection import train_test_split\n",
    "from datasets import Dataset\n",
    "from transformers import AutoTokenizer, AutoModelForSequenceClassification, BertForSequenceClassification\n",
    "from transformers import Trainer, TrainingArguments\n",
    "import evaluate\n",
    "import numpy as np\n"
   ]
  },
  {
   "cell_type": "code",
   "execution_count": 3,
   "id": "c1102d8f-f55d-4efe-b309-8e0838b1c27c",
   "metadata": {
    "tags": []
   },
   "outputs": [],
   "source": [
    "base_model_name = 'bert-base-uncased'\n",
    "\n",
    "\n",
    "def preprocess_imdb(dataset_dir):\n",
    "    cur_dir = pathlib.Path(dataset_dir)\n",
    "    texts = []\n",
    "    sentiments = []\n",
    "    stars = []\n",
    "    for sentiment_dir in ['pos', 'neg']:\n",
    "        for text_file in (cur_dir/sentiment_dir).iterdir():\n",
    "            texts.append(text_file.read_text(encoding='utf-8'))\n",
    "            sentiments.append(1 if sentiment_dir == 'pos' else 0)\n",
    "            stars.append(int(text_file.name[:-4].split('_')[1]))\n",
    "    \n",
    "    return texts, sentiments, stars\n",
    "\n",
    "id2label = {0: \"NEGATIVE\", 1: \"POSITIVE\"}\n",
    "label2id = {\"NEGATIVE\": 0, \"POSITIVE\": 1}\n",
    "\n",
    "accuracy = evaluate.load(\"accuracy\")\n",
    "\n",
    "def compute_metrics(eval_pred):\n",
    "    predictions, labels = eval_pred\n",
    "    predictions = np.argmax(predictions, axis=1)\n",
    "    return accuracy.compute(predictions=predictions, references=labels)\n",
    "    "
   ]
  },
  {
   "cell_type": "code",
   "execution_count": 4,
   "id": "3b68a23a-f528-4e4f-ad06-5243a3dff9de",
   "metadata": {
    "tags": []
   },
   "outputs": [],
   "source": [
    "texts_train, sentiments_train, stars_train = preprocess_imdb('aclImdb/train')\n",
    "texts_test, sentiments_test, stars_test = preprocess_imdb('aclImdb/test')\n",
    "\n",
    "device = 'cuda'\n",
    "\n",
    "tokenizer = AutoTokenizer.from_pretrained(base_model_name, fast=True)\n",
    "\n",
    "texts_train, texts_val, sentiments_train, sentiments_val = train_test_split(texts_train, sentiments_train, test_size=0.2)\n",
    "\n",
    "train_encodings = tokenizer(texts_train, truncation=True, padding=\"max_length\", return_tensors=\"pt\", max_length=256)\n",
    "val_encodings = tokenizer(texts_val, truncation=True, padding=\"max_length\", return_tensors=\"pt\", max_length=256)\n",
    "test_encodings = tokenizer(texts_test, truncation=True, padding=\"max_length\", return_tensors=\"pt\", max_length=256)\n",
    "\n",
    "\n",
    "train_dataset = Dataset.from_dict({\"input_ids\": train_encodings[\"input_ids\"].to(device),\n",
    "                                   \"attention_mask\": train_encodings[\"attention_mask\"].to(device),\n",
    "                                   \"labels\": torch.tensor(sentiments_train).to(device)})\n",
    "train_dataset.set_format(\"pt\")\n",
    "val_dataset = Dataset.from_dict({\"input_ids\": val_encodings[\"input_ids\"].to(device),\n",
    "                                 \"attention_mask\": val_encodings[\"attention_mask\"].to(device),\n",
    "                                 \"labels\": torch.tensor(sentiments_val).to(device)})\n",
    "val_dataset.set_format(\"pt\")\n",
    "test_dataset = Dataset.from_dict({\"input_ids\": test_encodings[\"input_ids\"].to(device),\n",
    "                                  \"attention_mask\": test_encodings[\"attention_mask\"].to(device)})\n",
    "test_dataset.set_format(\"pt\")"
   ]
  },
  {
   "cell_type": "code",
   "execution_count": 1,
   "id": "0570554a-2996-4f20-ba5f-f6381fd27a4f",
   "metadata": {
    "tags": []
   },
   "outputs": [],
   "source": [
    "from matplotlib import pyplot as plt\n",
    "\n",
    "def plot_loss(train_losses, validation_losses):\n",
    "    plt.figure(figsize=(8, 6))\n",
    "    plt.plot(range(1, len(train_losses) + 1), train_losses, label=\"Train\")\n",
    "    plt.plot(range(1, len(validation_losses) + 1), validation_losses, label=\"Val\")\n",
    "    plt.ylabel(\"Loss\")\n",
    "    plt.legend()\n",
    "    plt.show()\n",
    "    \n",
    "    \n",
    "    "
   ]
  },
  {
   "cell_type": "code",
   "execution_count": 7,
   "id": "718f4c79-94f3-46c9-82e7-83a8c82a5744",
   "metadata": {
    "tags": []
   },
   "outputs": [
    {
     "name": "stderr",
     "output_type": "stream",
     "text": [
      "Some weights of the model checkpoint at bert-base-uncased were not used when initializing BertForSequenceClassification: ['cls.predictions.decoder.weight', 'cls.predictions.bias', 'cls.predictions.transform.dense.bias', 'cls.seq_relationship.weight', 'cls.predictions.transform.dense.weight', 'cls.predictions.transform.LayerNorm.bias', 'cls.seq_relationship.bias', 'cls.predictions.transform.LayerNorm.weight']\n",
      "- This IS expected if you are initializing BertForSequenceClassification from the checkpoint of a model trained on another task or with another architecture (e.g. initializing a BertForSequenceClassification model from a BertForPreTraining model).\n",
      "- This IS NOT expected if you are initializing BertForSequenceClassification from the checkpoint of a model that you expect to be exactly identical (initializing a BertForSequenceClassification model from a BertForSequenceClassification model).\n",
      "Some weights of BertForSequenceClassification were not initialized from the model checkpoint at bert-base-uncased and are newly initialized: ['classifier.bias', 'classifier.weight']\n",
      "You should probably TRAIN this model on a down-stream task to be able to use it for predictions and inference.\n"
     ]
    },
    {
     "ename": "KeyboardInterrupt",
     "evalue": "",
     "output_type": "error",
     "traceback": [
      "\u001b[1;31m---------------------------------------------------------------------------\u001b[0m",
      "\u001b[1;31mKeyboardInterrupt\u001b[0m                         Traceback (most recent call last)",
      "Cell \u001b[1;32mIn [7], line 53\u001b[0m\n\u001b[0;32m     50\u001b[0m         val_labels \u001b[38;5;241m=\u001b[39m val_batch[\u001b[38;5;124m'\u001b[39m\u001b[38;5;124mlabels\u001b[39m\u001b[38;5;124m'\u001b[39m]\u001b[38;5;241m.\u001b[39mto(device)\n\u001b[0;32m     52\u001b[0m         val_outputs \u001b[38;5;241m=\u001b[39m model(val_input_ids, attention_mask\u001b[38;5;241m=\u001b[39mval_attention_mask, labels\u001b[38;5;241m=\u001b[39mval_labels)\n\u001b[1;32m---> 53\u001b[0m         val_loss \u001b[38;5;241m+\u001b[39m\u001b[38;5;241m=\u001b[39m \u001b[43mval_outputs\u001b[49m\u001b[43m[\u001b[49m\u001b[38;5;241;43m0\u001b[39;49m\u001b[43m]\u001b[49m\u001b[38;5;241;43m.\u001b[39;49m\u001b[43mitem\u001b[49m\u001b[43m(\u001b[49m\u001b[43m)\u001b[49m\n\u001b[0;32m     55\u001b[0m val_loss \u001b[38;5;241m/\u001b[39m\u001b[38;5;241m=\u001b[39m \u001b[38;5;28mlen\u001b[39m(val_loader)\n\u001b[0;32m     56\u001b[0m val_losses\u001b[38;5;241m.\u001b[39mappend(val_loss)\n",
      "\u001b[1;31mKeyboardInterrupt\u001b[0m: "
     ]
    }
   ],
   "source": [
    "from torch.utils.data import DataLoader\n",
    "from torch.optim import AdamW\n",
    "\n",
    "model = AutoModelForSequenceClassification.from_pretrained(base_model_name, num_labels=2).to(\"cuda\")\n",
    "model.train()\n",
    "\n",
    "train_loader = DataLoader(train_dataset, batch_size=16, shuffle=True)\n",
    "val_loader = DataLoader(val_dataset, batch_size=16, shuffle=True)\n",
    "\n",
    "optim = AdamW(model.parameters(), lr=1e-4)\n",
    "\n",
    "num_epochs = 2\n",
    "\n",
    "n_steps = 0\n",
    "\n",
    "plot_every_steps = 1\n",
    "\n",
    "train_losses = []\n",
    "val_losses = []\n",
    "\n",
    "\n",
    "avg_train_loss = 0\n",
    "\n",
    "for epoch in range(num_epochs):\n",
    "    model.train()\n",
    "    for batch in train_loader:\n",
    "        optim.zero_grad()\n",
    "        input_ids = batch['input_ids'].to(device)\n",
    "        attention_mask = batch['attention_mask'].to(device)\n",
    "        labels = batch['labels'].to(device)\n",
    "        \n",
    "        outputs = model(input_ids, attention_mask=attention_mask, labels=labels)\n",
    "        loss = outputs[0]\n",
    "        \n",
    "        avg_train_loss += loss.item()\n",
    "        \n",
    "        loss.backward()\n",
    "        optim.step()\n",
    "        n_steps += 1\n",
    "        if n_steps % plot_every_steps == 0:\n",
    "            avg_train_loss /= plot_every_steps\n",
    "            train_losses.append(avg_train_loss)\n",
    "            avg_train_loss = 0\n",
    "            model.eval()\n",
    "            val_loss = 0.0\n",
    "            with torch.no_grad():\n",
    "                for val_batch in val_loader:\n",
    "                    val_input_ids = val_batch['input_ids'].to(device)\n",
    "                    val_attention_mask = val_batch['attention_mask'].to(device)\n",
    "                    val_labels = val_batch['labels'].to(device)\n",
    "\n",
    "                    val_outputs = model(val_input_ids, attention_mask=val_attention_mask, labels=val_labels)\n",
    "                    val_loss += val_outputs[0].item()\n",
    "\n",
    "            val_loss /= len(val_loader)\n",
    "            val_losses.append(val_loss)\n",
    "\n",
    "            plot_loss(train_losses, val_losses)\n",
    "        \n",
    "\n",
    "plot_loss()\n"
   ]
  },
  {
   "cell_type": "code",
   "execution_count": 13,
   "id": "b974d847-f3eb-48f4-91c6-66d50443356b",
   "metadata": {
    "tags": []
   },
   "outputs": [
    {
     "data": {
      "text/plain": [
       "device(type='cuda', index=0)"
      ]
     },
     "execution_count": 13,
     "metadata": {},
     "output_type": "execute_result"
    }
   ],
   "source": []
  },
  {
   "cell_type": "code",
   "execution_count": 10,
   "id": "44b51d8c-ed7c-4b05-8696-9e49f4ecf91f",
   "metadata": {
    "tags": []
   },
   "outputs": [
    {
     "data": {
      "image/png": "[encoded data removed]",
      "text/plain": [
       "<Figure size 800x600 with 1 Axes>"
      ]
     },
     "metadata": {},
     "output_type": "display_data"
    }
   ],
   "source": [
    "# Построение графика потерь на валидационной выборке\n",
    "plt.figure(figsize=(8, 6))\n",
    "plt.plot(range(1, len(validation_loss_callback.validation_losses) + 1), validation_loss_callback.validation_losses, label=\"Потери на валидационной выборке\")\n",
    "plt.xlabel(\"Эпохи\")\n",
    "plt.ylabel(\"Потери\")\n",
    "plt.legend()\n",
    "plt.title(\"Потери на валидационной выборке в процессе дообучения\")\n",
    "plt.show()"
   ]
  },
  {
   "cell_type": "code",
   "execution_count": 11,
   "id": "aa26bc91-becb-469e-a500-be2e3cf3e71e",
   "metadata": {},
   "outputs": [
    {
     "name": "stderr",
     "output_type": "stream",
     "text": [
      "***** Running Evaluation *****\n",
      "  Num examples = 5000\n",
      "  Batch size = 64\n"
     ]
    },
    {
     "data": {
      "text/html": [
       "\n",
       "    <div>\n",
       "      \n",
       "      <progress value='79' max='79' style='width:300px; height:20px; vertical-align: middle;'></progress>\n",
       "      [79/79 00:31]\n",
       "    </div>\n",
       "    "
      ],
      "text/plain": [
       "<IPython.core.display.HTML object>"
      ]
     },
     "metadata": {},
     "output_type": "display_data"
    },
    {
     "data": {
      "text/plain": [
       "{'eval_loss': 0.23225656151771545,\n",
       " 'eval_runtime': 31.2822,\n",
       " 'eval_samples_per_second': 159.835,\n",
       " 'eval_steps_per_second': 2.525,\n",
       " 'epoch': 1.0}"
      ]
     },
     "execution_count": 11,
     "metadata": {},
     "output_type": "execute_result"
    }
   ],
   "source": [
    "trainer.evaluate()"
   ]
  },
  {
   "cell_type": "code",
   "execution_count": 18,
   "id": "13f8f701-6a73-4c99-b43d-a86abae14100",
   "metadata": {
    "tags": []
   },
   "outputs": [],
   "source": [
    "text = \"Bad movie\"\n",
    "\n",
    "encoding = tokenizer(text, return_tensors=\"pt\")\n",
    "encoding = {k: v.to(trainer.model.device) for k,v in encoding.items()}\n",
    "\n",
    "outputs = trainer.model(**encoding)"
   ]
  },
  {
   "cell_type": "code",
   "execution_count": 19,
   "id": "37544f5c-4eba-4e6e-b9e2-786205da43d2",
   "metadata": {
    "tags": []
   },
   "outputs": [
    {
     "data": {
      "text/plain": [
       "SequenceClassifierOutput(loss=None, logits=tensor([[ 0.6236, -0.5648]], device='cuda:0', grad_fn=<AddmmBackward0>), hidden_states=None, attentions=None)"
      ]
     },
     "execution_count": 19,
     "metadata": {},
     "output_type": "execute_result"
    }
   ],
   "source": [
    "outputs"
   ]
  },
  {
   "cell_type": "code",
   "execution_count": 20,
   "id": "7def4421-b24e-41c3-85f0-344826118ef4",
   "metadata": {
    "tags": []
   },
   "outputs": [
    {
     "name": "stdout",
     "output_type": "stream",
     "text": [
      "tensor([0.6510, 0.3624], grad_fn=<SigmoidBackward0>)\n"
     ]
    }
   ],
   "source": [
    "sigmoid = torch.nn.Sigmoid()\n",
    "logits = outputs.logits\n",
    "probs = sigmoid(logits.squeeze().cpu())\n",
    "print(probs)"
   ]
  },
  {
   "cell_type": "code",
   "execution_count": null,
   "id": "f3983f43-40bc-4729-9548-7c3c2b6364f1",
   "metadata": {},
   "outputs": [],
   "source": []
  }
 ],
 "metadata": {
  "kernelspec": {
   "display_name": "Python 3 (ipykernel)",
   "language": "python",
   "name": "python3"
  },
  "language_info": {
   "codemirror_mode": {
    "name": "ipython",
    "version": 3
   },
   "file_extension": ".py",
   "mimetype": "text/x-python",
   "name": "python",
   "nbconvert_exporter": "python",
   "pygments_lexer": "ipython3",
   "version": "3.9.6"
  }
 },
 "nbformat": 4,
 "nbformat_minor": 5
}
